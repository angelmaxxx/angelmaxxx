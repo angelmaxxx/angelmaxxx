{
  "nbformat": 4,
  "nbformat_minor": 0,
  "metadata": {
    "colab": {
      "provenance": [],
      "authorship_tag": "ABX9TyNQPS35pnORHqvVghaOHg4v",
      "include_colab_link": true
    },
    "kernelspec": {
      "name": "python3",
      "display_name": "Python 3"
    },
    "language_info": {
      "name": "python"
    }
  },
  "cells": [
    {
      "cell_type": "markdown",
      "metadata": {
        "id": "view-in-github",
        "colab_type": "text"
      },
      "source": [
        "<a href=\"https://colab.research.google.com/github/angelmaxxx/angelmaxxx/blob/main/Projetopython_Angelo_Maximo_S_Alves.ipynb\" target=\"_parent\"><img src=\"https://colab.research.google.com/assets/colab-badge.svg\" alt=\"Open In Colab\"/></a>"
      ]
    },
    {
      "cell_type": "markdown",
      "source": [
        "\n",
        "## Projeto - Fundamentos de Python\n",
        "\n",
        "Este projeto tem como principal objetivo proporcionar ao estudante a verificação das principais habilidades técnicas sobre fundamentos de Python aprendidas na quarta semana do Bootcamp de análise de dados na turma AD2. A proposta alia conceitos fundamentais de Python com o tema da primeira semana do Bootcamp (análise exploratória de dados). Neste projeto o estudante deverá individualmente construir um script em Python que receba do usuário duas variáveis de valores referentes a variáveis quantitativas e devolva como resposta a seguintes medidas de estatística descritiva para cada variável informada:\n",
        "\n",
        "\n",
        "*   Média Aritmética\n",
        "*   Mediana\n",
        "*   Moda (se houver)\n",
        "*   Variância Amostral\n",
        "*   Desvio Padrão Amostral\n",
        "*   Amplitude Total\n",
        "*   Q1 (Primeiro Quartil)\n",
        "*   Q3 (Terceiro Quartil)\n",
        "*   AIQ (Amplitude Interquartílica)\n",
        "*   Limite Inferior (LI do Bloxplot)\n",
        "*   Limite Superior (LS do Boloxplot)\n",
        "*   Identificação e Classificação de Possíveis Outliers na Amostra\n",
        "*   Coeficiente de Correlação de Pearson(r)\n",
        "*   Coeficiente de Determinação (r ao quadrado)\n",
        "*   Coeficiente \"a\" ou alpha da equação de Regressão Linear Simples para as duas variaveis escolhidas pelo usuário\n",
        "*   Coeficiente b ou beta da equação de Regressão Linear Simples para as duas variáveis escolhidas pelo usuário\n",
        "\n",
        "\n",
        "**Requisitos obrigatórios:**\n",
        "\n",
        "\n",
        "\n",
        "*  O programa deve conter todas as medidas de estatística descritiva solicitadas no bloco anterior;\n",
        "*  O Programa deve conter no mínimo as seguintes estruturas:\n",
        "1 - (if, elif e else), 1 - (laço de repetição For) 1 - (loop While);\n",
        "*  O programa não pode incorporar módulos e frameworks não estudados até o presente momento no bootcamp.\n",
        "\n",
        "\n",
        "\n",
        "\n",
        "\n",
        "\n"
      ],
      "metadata": {
        "id": "hiJ1da_2eayu"
      }
    },
    {
      "cell_type": "code",
      "source": [
        "# Para recebimento dos valores usei aa função \"input\" para solicitar ao usuário que digite os valores para cada variável, separados por espaço.\n",
        "var1 = input(\"Informe os valores para a primeira variável (separados por espaços):\").split()\n",
        "print(var1)"
      ],
      "metadata": {
        "colab": {
          "base_uri": "https://localhost:8080/"
        },
        "id": "bdrqRUJn1UKw",
        "outputId": "98cb87e8-2a1c-4ff4-d63e-3349ed33b6fe"
      },
      "execution_count": 1,
      "outputs": [
        {
          "output_type": "stream",
          "name": "stdout",
          "text": [
            "Informe os valores para a primeira variável (separados por espaços):15 20 25 30 45 50 60 60 150\n",
            "['15', '20', '25', '30', '45', '50', '60', '60', '150']\n"
          ]
        }
      ]
    },
    {
      "cell_type": "code",
      "source": [
        "var2 = input(\"\\nInforme os valores para a segunda variável (separados por espaços):\").split()\n",
        "print(var2)\n"
      ],
      "metadata": {
        "colab": {
          "base_uri": "https://localhost:8080/"
        },
        "id": "ueVWcxtrAfE0",
        "outputId": "9a6c9bdf-82d4-4eea-a6ef-293996f52ce8"
      },
      "execution_count": 2,
      "outputs": [
        {
          "output_type": "stream",
          "name": "stdout",
          "text": [
            "\n",
            "Informe os valores para a segunda variável (separados por espaços):20 30 40 50 60 70 70 90 180\n",
            "['20', '30', '40', '50', '60', '70', '70', '90', '180']\n"
          ]
        }
      ]
    },
    {
      "cell_type": "code",
      "source": [
        "# Os valores são convertidos para números inteiros e armazenados nas listas \"var1\" e \"var2\"\n",
        "for i in range(len(var1)):\n",
        "    var1[i] = int(var1[i])\n",
        "    var2[i] = int(var2[i])"
      ],
      "metadata": {
        "id": "0VpvtAgmAk9d"
      },
      "execution_count": 3,
      "outputs": []
    },
    {
      "cell_type": "code",
      "source": [
        "# Cálculo da Média\n",
        "md_var1 = sum(var1) / len(var1)\n",
        "md_var2 = sum(var2) / len(var2)\n",
        "\n",
        "print(f\"Média aritmética da variável 1 é: {md_var1:.2f}\")\n",
        "print(f\"Média aritmética da variável 2 é: {md_var2:.2f}\")"
      ],
      "metadata": {
        "colab": {
          "base_uri": "https://localhost:8080/"
        },
        "id": "E8323sSnAt7t",
        "outputId": "a755cad1-b111-4b12-c797-6b76f1b59707"
      },
      "execution_count": 4,
      "outputs": [
        {
          "output_type": "stream",
          "name": "stdout",
          "text": [
            "Média aritmética da variável 1 é: 50.56\n",
            "Média aritmética da variável 2 é: 67.78\n"
          ]
        }
      ]
    },
    {
      "cell_type": "code",
      "source": [
        "# Cálculo da Mediana\n",
        "var1 = sorted(var1)\n",
        "var2 = sorted(var2)\n",
        "\n",
        "qtd_var1 = len(var1)\n",
        "qtd_var2 = len(var2)\n",
        "\n",
        "if qtd_var1 % 2 == 0:\n",
        "    mediana1 = (var1[qtd_var1 // 2 - 1]) + (var1[qtd_var1 // 2]) / 2\n",
        "else:\n",
        "    mediana1 = var1[(len(var1) + 1) // 2 - 1]\n",
        "\n",
        "if qtd_var2 % 2 == 0:\n",
        "    mediana2 = (var2[qtd_var2 // 2 - 1]) + (var2[qtd_var2 // 2]) / 2\n",
        "else:\n",
        "    mediana2 = var2[(len(var2) + 1) // 2 - 1]\n",
        "\n",
        "print(f'Mediana01: {mediana1:.2f}')\n",
        "print(f'Mediana02: {mediana2:.2f}')"
      ],
      "metadata": {
        "colab": {
          "base_uri": "https://localhost:8080/"
        },
        "id": "_NZeRoFIAw9y",
        "outputId": "fc846c83-5815-46db-eb9e-82572cf15326"
      },
      "execution_count": 5,
      "outputs": [
        {
          "output_type": "stream",
          "name": "stdout",
          "text": [
            "Mediana01: 45.00\n",
            "Mediana02: 60.00\n"
          ]
        }
      ]
    },
    {
      "cell_type": "code",
      "source": [
        "#Cálculo da Variância Amostral das Variáveis\n",
        "soma_var1 = sum(var1)\n",
        "soma_quadr_var1 = sum(valor ** 2 for valor in var1)\n",
        "var_var1 = (soma_quadr_var1 - ((soma_var1 ** 2) / len(var1))) / (len(var1) - 1)\n",
        "\n",
        "soma_var2 = sum(var2)\n",
        "soma_quadr_var2 = sum(valor ** 2 for valor in var2)\n",
        "var_var2 = (soma_quadr_var2 - ((soma_var2 ** 2) / len(var2))) / (len(var2) - 1)\n",
        "\n",
        "print(f\"Variância amostral da variável 1: {var_var1:.2f}\")\n",
        "print(f\"Variância amostral da variável 2: {var_var2:.2f}\")"
      ],
      "metadata": {
        "colab": {
          "base_uri": "https://localhost:8080/"
        },
        "id": "o7Q5xsXMA0GT",
        "outputId": "55a432e2-5ed0-42c4-b13f-c1215a4541fd"
      },
      "execution_count": 6,
      "outputs": [
        {
          "output_type": "stream",
          "name": "stdout",
          "text": [
            "Variância amostral da variável 1: 1671.53\n",
            "Variância amostral da variável 2: 2244.44\n"
          ]
        }
      ]
    },
    {
      "cell_type": "code",
      "source": [
        "# Calculo do desvio padrão amostral das variáveis\n",
        "desvio_pd_var1 = var_var1 ** 0.5\n",
        "\n",
        "desvio_pd_var2 = var_var2 ** 0.5\n",
        "\n",
        "print(f\"Desvio padrão amostral da variável 1: {desvio_pd_var1:.2f}\")\n",
        "print(f\"Desvio padrão amostral da variável 2: {desvio_pd_var2:.2f}\")"
      ],
      "metadata": {
        "colab": {
          "base_uri": "https://localhost:8080/"
        },
        "id": "Qd8RVelRA3QE",
        "outputId": "160e5982-864e-4c7b-9654-2d72bbce3e8e"
      },
      "execution_count": 7,
      "outputs": [
        {
          "output_type": "stream",
          "name": "stdout",
          "text": [
            "Desvio padrão amostral da variável 1: 40.88\n",
            "Desvio padrão amostral da variável 2: 47.38\n"
          ]
        }
      ]
    },
    {
      "cell_type": "code",
      "source": [
        "# Calcular a amplitude total das Variáveis\n",
        "ampl_var1 = max(var1) - min(var1)\n",
        "\n",
        "ampl_var2 = max(var2) - min(var2)\n",
        "\n",
        "print(\"Amplitude total da variável 1:\", ampl_var1)\n",
        "print(\"Amplitude total da variável 2:\", ampl_var2)"
      ],
      "metadata": {
        "colab": {
          "base_uri": "https://localhost:8080/"
        },
        "id": "zhgWn6cKA9rx",
        "outputId": "c1ba7cba-58a5-4404-a39e-f569b5b758a7"
      },
      "execution_count": 8,
      "outputs": [
        {
          "output_type": "stream",
          "name": "stdout",
          "text": [
            "Amplitude total da variável 1: 135\n",
            "Amplitude total da variável 2: 160\n"
          ]
        }
      ]
    },
    {
      "cell_type": "code",
      "source": [
        "# Calcular o primeiro quartil das Variáveis\n",
        "var1_ord = sorted(var1)\n",
        "indice_var1 = (len(var1_ord) - 1) // 4\n",
        "primeiro_quartil_var1 = var1_ord[indice_var1]\n",
        "\n",
        "var2_ord = sorted(var2)\n",
        "indice_var2 = (len(var2_ord) - 1) // 4\n",
        "primeiro_quartil_var2 = var2_ord[indice_var2]\n",
        "\n",
        "print(\"Primeiro quartil da variável 1:\", primeiro_quartil_var1)\n",
        "print(\"Primeiro quartil da variável 2:\", primeiro_quartil_var2)"
      ],
      "metadata": {
        "colab": {
          "base_uri": "https://localhost:8080/"
        },
        "id": "40re4IpVBGRb",
        "outputId": "079348c4-00fc-4741-9b8a-d9176cec21ba"
      },
      "execution_count": 9,
      "outputs": [
        {
          "output_type": "stream",
          "name": "stdout",
          "text": [
            "Primeiro quartil da variável 1: 25\n",
            "Primeiro quartil da variável 2: 40\n"
          ]
        }
      ]
    },
    {
      "cell_type": "code",
      "source": [
        "# Calcular o terceiro quartil da Variáveis\n",
        "var1_ord = sorted(var1)\n",
        "indice_var1 = (3 * (len(var1_ord) + 1)) // 4\n",
        "terceiro_quartil_var1 = var1_ord[indice_var1 - 1]\n",
        "\n",
        "var2_ord = sorted(var2)\n",
        "indice_var2 = (3 * (len(var2_ord) + 1)) // 4\n",
        "terceiro_quartil_var2 = var2_ord[indice_var2 - 1]\n",
        "\n",
        "print(\"Terceiro quartil da variável 1:\", terceiro_quartil_var1)\n",
        "print(\"Terceiro quartil da variável 2:\", terceiro_quartil_var2)"
      ],
      "metadata": {
        "colab": {
          "base_uri": "https://localhost:8080/"
        },
        "id": "VBBcuhdQBKwj",
        "outputId": "be3be2f9-52e5-4eaf-a784-4ca7123daa35"
      },
      "execution_count": 10,
      "outputs": [
        {
          "output_type": "stream",
          "name": "stdout",
          "text": [
            "Terceiro quartil da variável 1: 60\n",
            "Terceiro quartil da variável 2: 70\n"
          ]
        }
      ]
    },
    {
      "cell_type": "code",
      "source": [
        "# Calcular a amplitude interquartílica\n",
        "ampl_iquartil_var1 = terceiro_quartil_var1 - primeiro_quartil_var1\n",
        "ampl_iquartil_var2 = terceiro_quartil_var2 - primeiro_quartil_var2\n",
        "\n",
        "print(\"Amplitude interquartílica da variável 1:\", ampl_iquartil_var1)\n",
        "print(\"Amplitude interquartílica da variável 2:\", ampl_iquartil_var2)"
      ],
      "metadata": {
        "colab": {
          "base_uri": "https://localhost:8080/"
        },
        "id": "pBXd6SZMBPC6",
        "outputId": "6986f4ab-7a0b-48da-d76c-27b1cf2d514a"
      },
      "execution_count": 11,
      "outputs": [
        {
          "output_type": "stream",
          "name": "stdout",
          "text": [
            "Amplitude interquartílica da variável 1: 35\n",
            "Amplitude interquartílica da variável 2: 30\n"
          ]
        }
      ]
    },
    {
      "cell_type": "code",
      "source": [
        "# Calcular o limite inferior e o limite superior\n",
        "li_var1 = primeiro_quartil_var1 - 1.5 * ampl_iquartil_var1\n",
        "ls_var1 = terceiro_quartil_var1 + 1.5 * ampl_iquartil_var1\n",
        "\n",
        "li_var2 = primeiro_quartil_var2 - 1.5 * ampl_iquartil_var2\n",
        "ls_var2 = terceiro_quartil_var2 + 1.5 * ampl_iquartil_var2\n",
        "\n",
        "print(f\"Limite Inferior da variável 1: {li_var1:.0f}\")\n",
        "print(f\"Limite Superior da variável 1: {ls_var1:.0f}\")\n",
        "print(f\"Limite Inferior da variável 2: {li_var2:.0f}\")\n",
        "print(f\"Limite Superior da variável 2: {ls_var2:.0f}\")"
      ],
      "metadata": {
        "colab": {
          "base_uri": "https://localhost:8080/"
        },
        "id": "jyfVXXlMBRwz",
        "outputId": "b8c6a6a0-e7c1-4d40-f9ed-38afccc0b43d"
      },
      "execution_count": 12,
      "outputs": [
        {
          "output_type": "stream",
          "name": "stdout",
          "text": [
            "Limite Inferior da variável 1: -28\n",
            "Limite Superior da variável 1: 112\n",
            "Limite Inferior da variável 2: -5\n",
            "Limite Superior da variável 2: 115\n"
          ]
        }
      ]
    },
    {
      "cell_type": "code",
      "source": [
        "# Identificar e classificar outliers nas variáveis\n",
        "outliers_var1 = []\n",
        "for valor in var1:\n",
        "    if valor < li_var1 or valor > ls_var1:\n",
        "        outliers_var1.append(valor)\n",
        "\n",
        "print(\"Outliers da variável 1:\", outliers_var1)\n",
        "\n",
        "outliers_var2 = []\n",
        "for valor in var2:\n",
        "    if valor < li_var2 or valor > ls_var2:\n",
        "        outliers_var2.append(valor)\n",
        "\n",
        "print(\"Outliers da variável 2:\", outliers_var2)"
      ],
      "metadata": {
        "colab": {
          "base_uri": "https://localhost:8080/"
        },
        "id": "XQuZg0gaBUzy",
        "outputId": "5dd9b81d-c71b-430d-a521-e601f91a1411"
      },
      "execution_count": 13,
      "outputs": [
        {
          "output_type": "stream",
          "name": "stdout",
          "text": [
            "Outliers da variável 1: [150]\n",
            "Outliers da variável 2: [180]\n"
          ]
        }
      ]
    },
    {
      "cell_type": "code",
      "source": [
        "# Calcular o numerador do coeficiente de Pearson\n",
        "numerador = 0\n",
        "for i in range(len(var1)):\n",
        "    numerador += (var1[i] - md_var1) * (var2[i] - md_var2)\n",
        "\n",
        "# Calcular o denominador do coeficiente de Pearson\n",
        "denominador_var1 = 0\n",
        "for x in var1:\n",
        "    denominador_var1 += (x - md_var1)**2\n",
        "\n",
        "denominador_var2 = 0\n",
        "for y in var2:\n",
        "    denominador_var2 += (y - md_var2)**2\n",
        "\n",
        "denominador = (denominador_var1 * denominador_var2) ** 0.5\n",
        "\n",
        "# Calcular o coeficiente de Pearson\n",
        "co_pearson = numerador / denominador\n",
        "\n",
        "print(f\"Coeficiente de Pearson (r): {co_pearson:.2f}\")"
      ],
      "metadata": {
        "colab": {
          "base_uri": "https://localhost:8080/"
        },
        "id": "wYdzcktcBX0-",
        "outputId": "29eee496-be61-47e7-e60f-af9ab4b005c9"
      },
      "execution_count": 14,
      "outputs": [
        {
          "output_type": "stream",
          "name": "stdout",
          "text": [
            "Coeficiente de Pearson (r): 0.99\n"
          ]
        }
      ]
    },
    {
      "cell_type": "code",
      "source": [
        "# Calculo do Coeficiente de Determinação -  r ao quadrado\n",
        "r_quad = co_pearson ** 2\n",
        "print(f\"O Coeficiente de r_quad é: {r_quad:.3f}\")"
      ],
      "metadata": {
        "colab": {
          "base_uri": "https://localhost:8080/"
        },
        "id": "oYVbsdb9Bbaz",
        "outputId": "b3ab960f-db81-4854-876b-c1db8ba082ff"
      },
      "execution_count": 15,
      "outputs": [
        {
          "output_type": "stream",
          "name": "stdout",
          "text": [
            "O Coeficiente de r_quad é: 0.983\n"
          ]
        }
      ]
    },
    {
      "cell_type": "code",
      "source": [],
      "metadata": {
        "id": "8SvoBFehOxtL"
      },
      "execution_count": 15,
      "outputs": []
    }
  ]
}