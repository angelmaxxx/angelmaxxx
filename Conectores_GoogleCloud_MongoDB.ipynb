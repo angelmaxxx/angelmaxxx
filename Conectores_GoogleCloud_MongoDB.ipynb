{
  "nbformat": 4,
  "nbformat_minor": 0,
  "metadata": {
    "colab": {
      "provenance": [],
      "include_colab_link": true
    },
    "kernelspec": {
      "name": "python3",
      "display_name": "Python 3"
    },
    "language_info": {
      "name": "python"
    }
  },
  "cells": [
    {
      "cell_type": "markdown",
      "metadata": {
        "id": "view-in-github",
        "colab_type": "text"
      },
      "source": [
        "<a href=\"https://colab.research.google.com/github/angelmaxxx/angelmaxxx/blob/main/Conectores_GoogleCloud_MongoDB.ipynb\" target=\"_parent\"><img src=\"https://colab.research.google.com/assets/colab-badge.svg\" alt=\"Open In Colab\"/></a>"
      ]
    },
    {
      "cell_type": "code",
      "source": [
        "# Coloque as chaves GCP e MongoDB"
      ],
      "metadata": {
        "id": "Scox7VCkwqrE"
      },
      "execution_count": null,
      "outputs": []
    },
    {
      "cell_type": "code",
      "source": [
        "!pip install gcsfs\n",
        "!pip install pymongo   #- Modo 1\n",
        "#!python -m pip install pymongo -  Modo 2"
      ],
      "metadata": {
        "id": "EY-rFWp2poiH",
        "colab": {
          "base_uri": "https://localhost:8080/"
        },
        "outputId": "25791425-fc82-4bcd-92ab-e39c49b8570f"
      },
      "execution_count": 1,
      "outputs": [
        {
          "output_type": "stream",
          "name": "stdout",
          "text": [
            "Requirement already satisfied: gcsfs in /usr/local/lib/python3.10/dist-packages (2023.6.0)\n",
            "Requirement already satisfied: aiohttp!=4.0.0a0,!=4.0.0a1 in /usr/local/lib/python3.10/dist-packages (from gcsfs) (3.8.4)\n",
            "Requirement already satisfied: decorator>4.1.2 in /usr/local/lib/python3.10/dist-packages (from gcsfs) (4.4.2)\n",
            "Requirement already satisfied: fsspec==2023.6.0 in /usr/local/lib/python3.10/dist-packages (from gcsfs) (2023.6.0)\n",
            "Requirement already satisfied: google-auth>=1.2 in /usr/local/lib/python3.10/dist-packages (from gcsfs) (2.17.3)\n",
            "Requirement already satisfied: google-auth-oauthlib in /usr/local/lib/python3.10/dist-packages (from gcsfs) (1.0.0)\n",
            "Requirement already satisfied: google-cloud-storage in /usr/local/lib/python3.10/dist-packages (from gcsfs) (2.8.0)\n",
            "Requirement already satisfied: requests in /usr/local/lib/python3.10/dist-packages (from gcsfs) (2.27.1)\n",
            "Requirement already satisfied: attrs>=17.3.0 in /usr/local/lib/python3.10/dist-packages (from aiohttp!=4.0.0a0,!=4.0.0a1->gcsfs) (23.1.0)\n",
            "Requirement already satisfied: charset-normalizer<4.0,>=2.0 in /usr/local/lib/python3.10/dist-packages (from aiohttp!=4.0.0a0,!=4.0.0a1->gcsfs) (2.0.12)\n",
            "Requirement already satisfied: multidict<7.0,>=4.5 in /usr/local/lib/python3.10/dist-packages (from aiohttp!=4.0.0a0,!=4.0.0a1->gcsfs) (6.0.4)\n",
            "Requirement already satisfied: async-timeout<5.0,>=4.0.0a3 in /usr/local/lib/python3.10/dist-packages (from aiohttp!=4.0.0a0,!=4.0.0a1->gcsfs) (4.0.2)\n",
            "Requirement already satisfied: yarl<2.0,>=1.0 in /usr/local/lib/python3.10/dist-packages (from aiohttp!=4.0.0a0,!=4.0.0a1->gcsfs) (1.9.2)\n",
            "Requirement already satisfied: frozenlist>=1.1.1 in /usr/local/lib/python3.10/dist-packages (from aiohttp!=4.0.0a0,!=4.0.0a1->gcsfs) (1.4.0)\n",
            "Requirement already satisfied: aiosignal>=1.1.2 in /usr/local/lib/python3.10/dist-packages (from aiohttp!=4.0.0a0,!=4.0.0a1->gcsfs) (1.3.1)\n",
            "Requirement already satisfied: cachetools<6.0,>=2.0.0 in /usr/local/lib/python3.10/dist-packages (from google-auth>=1.2->gcsfs) (5.3.1)\n",
            "Requirement already satisfied: pyasn1-modules>=0.2.1 in /usr/local/lib/python3.10/dist-packages (from google-auth>=1.2->gcsfs) (0.3.0)\n",
            "Requirement already satisfied: six>=1.9.0 in /usr/local/lib/python3.10/dist-packages (from google-auth>=1.2->gcsfs) (1.16.0)\n",
            "Requirement already satisfied: rsa<5,>=3.1.4 in /usr/local/lib/python3.10/dist-packages (from google-auth>=1.2->gcsfs) (4.9)\n",
            "Requirement already satisfied: requests-oauthlib>=0.7.0 in /usr/local/lib/python3.10/dist-packages (from google-auth-oauthlib->gcsfs) (1.3.1)\n",
            "Requirement already satisfied: google-api-core!=2.0.*,!=2.1.*,!=2.2.*,!=2.3.0,<3.0.0dev,>=1.31.5 in /usr/local/lib/python3.10/dist-packages (from google-cloud-storage->gcsfs) (2.11.1)\n",
            "Requirement already satisfied: google-cloud-core<3.0dev,>=2.3.0 in /usr/local/lib/python3.10/dist-packages (from google-cloud-storage->gcsfs) (2.3.3)\n",
            "Requirement already satisfied: google-resumable-media>=2.3.2 in /usr/local/lib/python3.10/dist-packages (from google-cloud-storage->gcsfs) (2.5.0)\n",
            "Requirement already satisfied: urllib3<1.27,>=1.21.1 in /usr/local/lib/python3.10/dist-packages (from requests->gcsfs) (1.26.16)\n",
            "Requirement already satisfied: certifi>=2017.4.17 in /usr/local/lib/python3.10/dist-packages (from requests->gcsfs) (2023.5.7)\n",
            "Requirement already satisfied: idna<4,>=2.5 in /usr/local/lib/python3.10/dist-packages (from requests->gcsfs) (3.4)\n",
            "Requirement already satisfied: googleapis-common-protos<2.0.dev0,>=1.56.2 in /usr/local/lib/python3.10/dist-packages (from google-api-core!=2.0.*,!=2.1.*,!=2.2.*,!=2.3.0,<3.0.0dev,>=1.31.5->google-cloud-storage->gcsfs) (1.59.1)\n",
            "Requirement already satisfied: protobuf!=3.20.0,!=3.20.1,!=4.21.0,!=4.21.1,!=4.21.2,!=4.21.3,!=4.21.4,!=4.21.5,<5.0.0.dev0,>=3.19.5 in /usr/local/lib/python3.10/dist-packages (from google-api-core!=2.0.*,!=2.1.*,!=2.2.*,!=2.3.0,<3.0.0dev,>=1.31.5->google-cloud-storage->gcsfs) (3.20.3)\n",
            "Requirement already satisfied: google-crc32c<2.0dev,>=1.0 in /usr/local/lib/python3.10/dist-packages (from google-resumable-media>=2.3.2->google-cloud-storage->gcsfs) (1.5.0)\n",
            "Requirement already satisfied: pyasn1<0.6.0,>=0.4.6 in /usr/local/lib/python3.10/dist-packages (from pyasn1-modules>=0.2.1->google-auth>=1.2->gcsfs) (0.5.0)\n",
            "Requirement already satisfied: oauthlib>=3.0.0 in /usr/local/lib/python3.10/dist-packages (from requests-oauthlib>=0.7.0->google-auth-oauthlib->gcsfs) (3.2.2)\n",
            "Collecting pymongo\n",
            "  Downloading pymongo-4.4.1-cp310-cp310-manylinux_2_17_x86_64.manylinux2014_x86_64.whl (603 kB)\n",
            "\u001b[2K     \u001b[90m━━━━━━━━━━━━━━━━━━━━━━━━━━━━━━━━━━━━━━━\u001b[0m \u001b[32m603.6/603.6 kB\u001b[0m \u001b[31m4.3 MB/s\u001b[0m eta \u001b[36m0:00:00\u001b[0m\n",
            "\u001b[?25hCollecting dnspython<3.0.0,>=1.16.0 (from pymongo)\n",
            "  Downloading dnspython-2.4.0-py3-none-any.whl (300 kB)\n",
            "\u001b[2K     \u001b[90m━━━━━━━━━━━━━━━━━━━━━━━━━━━━━━━━━━━━━━\u001b[0m \u001b[32m300.0/300.0 kB\u001b[0m \u001b[31m27.0 MB/s\u001b[0m eta \u001b[36m0:00:00\u001b[0m\n",
            "\u001b[?25hCollecting httpcore>=0.17.3 (from dnspython<3.0.0,>=1.16.0->pymongo)\n",
            "  Downloading httpcore-0.17.3-py3-none-any.whl (74 kB)\n",
            "\u001b[2K     \u001b[90m━━━━━━━━━━━━━━━━━━━━━━━━━━━━━━━━━━━━━━━━\u001b[0m \u001b[32m74.5/74.5 kB\u001b[0m \u001b[31m8.1 MB/s\u001b[0m eta \u001b[36m0:00:00\u001b[0m\n",
            "\u001b[?25hRequirement already satisfied: sniffio<2.0,>=1.1 in /usr/local/lib/python3.10/dist-packages (from dnspython<3.0.0,>=1.16.0->pymongo) (1.3.0)\n",
            "Collecting h11<0.15,>=0.13 (from httpcore>=0.17.3->dnspython<3.0.0,>=1.16.0->pymongo)\n",
            "  Downloading h11-0.14.0-py3-none-any.whl (58 kB)\n",
            "\u001b[2K     \u001b[90m━━━━━━━━━━━━━━━━━━━━━━━━━━━━━━━━━━━━━━━━\u001b[0m \u001b[32m58.3/58.3 kB\u001b[0m \u001b[31m5.7 MB/s\u001b[0m eta \u001b[36m0:00:00\u001b[0m\n",
            "\u001b[?25hRequirement already satisfied: anyio<5.0,>=3.0 in /usr/local/lib/python3.10/dist-packages (from httpcore>=0.17.3->dnspython<3.0.0,>=1.16.0->pymongo) (3.7.1)\n",
            "Requirement already satisfied: certifi in /usr/local/lib/python3.10/dist-packages (from httpcore>=0.17.3->dnspython<3.0.0,>=1.16.0->pymongo) (2023.5.7)\n",
            "Requirement already satisfied: idna>=2.8 in /usr/local/lib/python3.10/dist-packages (from anyio<5.0,>=3.0->httpcore>=0.17.3->dnspython<3.0.0,>=1.16.0->pymongo) (3.4)\n",
            "Requirement already satisfied: exceptiongroup in /usr/local/lib/python3.10/dist-packages (from anyio<5.0,>=3.0->httpcore>=0.17.3->dnspython<3.0.0,>=1.16.0->pymongo) (1.1.2)\n",
            "Installing collected packages: h11, httpcore, dnspython, pymongo\n",
            "Successfully installed dnspython-2.4.0 h11-0.14.0 httpcore-0.17.3 pymongo-4.4.1\n"
          ]
        }
      ]
    },
    {
      "cell_type": "code",
      "source": [
        "# Abertura de bibliotecas de manipulação e análise\n",
        "import pandas as pd\n",
        "import numpy as np\n",
        "\n",
        "# Abertura de bibliotecas de conectores\n",
        "import os\n",
        "from google.cloud import storage\n",
        "from pymongo import MongoClient"
      ],
      "metadata": {
        "id": "bXfHEr0Tp7-f"
      },
      "execution_count": 2,
      "outputs": []
    },
    {
      "cell_type": "markdown",
      "source": [
        "### **Google Drive**"
      ],
      "metadata": {
        "id": "RAAGzOkAMyQF"
      }
    },
    {
      "cell_type": "code",
      "source": [
        "# Comando de abertura para Google Drive\n",
        "#from google.colab import drive\n",
        "#drive.mount('/content/drive')"
      ],
      "metadata": {
        "id": "oF9xlGMYjpun"
      },
      "execution_count": null,
      "outputs": []
    },
    {
      "cell_type": "code",
      "source": [
        "# Extração por Google Drive\n",
        "#df = pd.read_csv('/content/drive/MyDrive/Semana 6 - Python para Análise de Dados/cenipa_bruto.csv',\n",
        "#                 sep=';',\n",
        "#                 encoding='ISO-8859-1',\n",
        "#                 dayfirst = True)"
      ],
      "metadata": {
        "id": "IdN8Nc-ak_JX"
      },
      "execution_count": null,
      "outputs": []
    },
    {
      "cell_type": "markdown",
      "source": [
        "### **Google Cloud**\n",
        "\n",
        "*   Documentação: https://cloud.google.com/docs/authentication?hl=pt-br"
      ],
      "metadata": {
        "id": "SSVecAGoNVPo"
      }
    },
    {
      "cell_type": "code",
      "source": [
        "# CONFIGURANDO DA CHAVE DE SEGURANCA - ACESSO O PROJETO\n",
        "serviceAccount = '/content/analisemax01-9051ec7f5603.json'\n",
        "os.environ['GOOGLE_APPLICATION_CREDENTIALS'] = serviceAccount"
      ],
      "metadata": {
        "id": "0-b2vKVQunWw"
      },
      "execution_count": 3,
      "outputs": []
    },
    {
      "cell_type": "code",
      "source": [
        "# Configurações Google Cloud Storage - ACESSO AO BUCKET\n",
        "client = storage.Client()\n",
        "bucket = client.get_bucket('maxdata_digital01')\n",
        "bucket.blob('cenipa_bruto.csv')\n",
        "path = 'gs://maxdata_digital01/Bruto/cenipa_bruto.csv'"
      ],
      "metadata": {
        "id": "Mi_INTjZNbBn"
      },
      "execution_count": 4,
      "outputs": []
    },
    {
      "cell_type": "code",
      "source": [
        "# Abertura da base de dados e cópia de segurança (bucket)\n",
        "df = pd.read_csv(path,\n",
        "                 sep=';',\n",
        "                 encoding='ISO-8859-1',\n",
        "                 dayfirst = True)\n",
        "dfback = df.copy()"
      ],
      "metadata": {
        "id": "hNZiDRgyNatg"
      },
      "execution_count": 5,
      "outputs": []
    },
    {
      "cell_type": "markdown",
      "source": [
        "## **MongoDB**"
      ],
      "metadata": {
        "id": "buEHC-EHvqSP"
      }
    },
    {
      "cell_type": "code",
      "source": [
        "\"\"\"\n",
        "ORIGINAL\n",
        "uri = \"mongodb+srv://cluster0.kvilztb.mongodb.net/?authSource=%24external&authMechanism=MONGODB-X509&retryWrites=true&w=majority\"\n",
        "client = MongoClient(uri,\n",
        "                     tls=True,\n",
        "                     tlsCertificateKeyFile='<path_to_certificate>',\n",
        "                     server_api=ServerApi('1')) -> retirar essa linha\n",
        "\n",
        "db = client['testDB']\n",
        "collection = db['testCol']\n",
        "doc_count = collection.count_documents({})\n",
        "print(doc_count)\n",
        "    \"\"\""
      ],
      "metadata": {
        "id": "Sz9yCTKDpjpd"
      },
      "execution_count": null,
      "outputs": []
    },
    {
      "cell_type": "code",
      "source": [
        "# Conector MongoDB\n",
        "uri = \"mongodb+srv://cluster0.vcyxg27.mongodb.net/?authSource=%24external&authMechanism=MONGODB-X509&retryWrites=true&w=majority\"\n",
        "client = MongoClient(uri, tls=True, tlsCertificateKeyFile='/content/X509-cert-8832937637120532801.pem')"
      ],
      "metadata": {
        "id": "LeCJPonf7f5L"
      },
      "execution_count": 7,
      "outputs": []
    },
    {
      "cell_type": "code",
      "source": [
        "# Escolhendo a base de dados e coleção\n",
        "db = client['maxmongo']\n",
        "collection = db['brutos']"
      ],
      "metadata": {
        "id": "9xObaxiH-igA"
      },
      "execution_count": 8,
      "outputs": []
    },
    {
      "cell_type": "code",
      "source": [
        "# Contagem dos documentos\n",
        "doc_count = collection.count_documents({})\n",
        "print(doc_count)"
      ],
      "metadata": {
        "id": "GMQTcWbb-0yx",
        "colab": {
          "base_uri": "https://localhost:8080/"
        },
        "outputId": "e467ab19-dea8-4f1c-e029-4fc302774edc"
      },
      "execution_count": 9,
      "outputs": [
        {
          "output_type": "stream",
          "name": "stdout",
          "text": [
            "6769\n"
          ]
        }
      ]
    },
    {
      "cell_type": "code",
      "source": [
        "# Abertura da base de dados e cópia de segurança (bucket)\n",
        "df = pd.read_csv(path,\n",
        "                 sep=';',\n",
        "                 encoding='ISO-8859-1',\n",
        "                 dayfirst = True)\n",
        "dfback = df.copy()"
      ],
      "metadata": {
        "id": "dPlZsV0hBFL5"
      },
      "execution_count": 10,
      "outputs": []
    },
    {
      "cell_type": "code",
      "source": [
        "# Conversão para colocar no MongoDB\n",
        "df_dict = df.to_dict(\"records\")\n",
        "collection.insert_many(df_dict)"
      ],
      "metadata": {
        "id": "qapgjOqoBGw7",
        "colab": {
          "base_uri": "https://localhost:8080/"
        },
        "outputId": "cc939253-cbef-41e1-c1b9-2e4b5ed88ebe"
      },
      "execution_count": 11,
      "outputs": [
        {
          "output_type": "execute_result",
          "data": {
            "text/plain": [
              "<pymongo.results.InsertManyResult at 0x7c39d8796320>"
            ]
          },
          "metadata": {},
          "execution_count": 11
        }
      ]
    },
    {
      "cell_type": "code",
      "source": [
        "# Checagem de valores no MongoDB\n",
        "collection.count_documents({})"
      ],
      "metadata": {
        "id": "UF4hnCd3BUQU",
        "colab": {
          "base_uri": "https://localhost:8080/"
        },
        "outputId": "cf15ecfa-8616-40fe-b870-e7a133704758"
      },
      "execution_count": 12,
      "outputs": [
        {
          "output_type": "execute_result",
          "data": {
            "text/plain": [
              "13538"
            ]
          },
          "metadata": {},
          "execution_count": 12
        }
      ]
    },
    {
      "cell_type": "code",
      "source": [
        "# Checagem da coleção do MongoDB\n",
        "for x in collection.find():\n",
        "  print(x)"
      ],
      "metadata": {
        "id": "sj_bLO07BtMZ"
      },
      "execution_count": null,
      "outputs": []
    },
    {
      "cell_type": "markdown",
      "source": [
        "##**Tratamento**"
      ],
      "metadata": {
        "id": "olFQE_GdCKRw"
      }
    },
    {
      "cell_type": "code",
      "source": [
        "path = 'gs://maxdata_digital01/Tratado/cenipa_tratado.csv'\n",
        "df = pd.read_csv(path,\n",
        "                 sep=',',\n",
        "                 encoding='ISO-8859-1',\n",
        "                 )"
      ],
      "metadata": {
        "id": "Z-6GJeOICCTQ"
      },
      "execution_count": 14,
      "outputs": []
    },
    {
      "cell_type": "markdown",
      "source": [
        "## **Carregamento**"
      ],
      "metadata": {
        "id": "9oLQt6oPxj0W"
      }
    },
    {
      "cell_type": "code",
      "source": [
        "# Exportação no Google Drive.\n",
        "#df.to_csv('cenipa_tratado.csv', index=False)"
      ],
      "metadata": {
        "id": "nZGl43nxxnvH"
      },
      "execution_count": 15,
      "outputs": []
    },
    {
      "cell_type": "code",
      "source": [
        "# Google Cloud\n",
        "#df.to_csv('gs://projetos-aula/projeto-cenipa/tratado/cenipa_tratado.csv', index=False) # salva no bucket"
      ],
      "metadata": {
        "id": "fvI1sD1_xmak"
      },
      "execution_count": 16,
      "outputs": []
    },
    {
      "cell_type": "code",
      "source": [
        "# Carregamento no MongoDB\n",
        "db2 = client['pandasmongo']\n",
        "collection2 = db2['tratados']\n",
        "collection2.count_documents({})"
      ],
      "metadata": {
        "id": "NEiCv_9q_9Nz",
        "colab": {
          "base_uri": "https://localhost:8080/"
        },
        "outputId": "5c226a1d-a7d8-405b-e00e-2d8c6b7212ca"
      },
      "execution_count": 17,
      "outputs": [
        {
          "output_type": "execute_result",
          "data": {
            "text/plain": [
              "6763"
            ]
          },
          "metadata": {},
          "execution_count": 17
        }
      ]
    },
    {
      "cell_type": "code",
      "source": [
        "# Conversão de dados para MongoDB\n",
        "df_dict = df.to_dict(\"records\")\n",
        "collection2.insert_many(df_dict)"
      ],
      "metadata": {
        "id": "tr-IgxIdAA8S",
        "colab": {
          "base_uri": "https://localhost:8080/"
        },
        "outputId": "dcf1c3aa-96a1-430b-f6de-7b1fd75d24b5"
      },
      "execution_count": 18,
      "outputs": [
        {
          "output_type": "execute_result",
          "data": {
            "text/plain": [
              "<pymongo.results.InsertManyResult at 0x7c39c3f462c0>"
            ]
          },
          "metadata": {},
          "execution_count": 18
        }
      ]
    },
    {
      "cell_type": "code",
      "source": [
        "# Contagem de dados: verificação\n",
        "collection2.count_documents({})"
      ],
      "metadata": {
        "id": "0cuLml0dACbI",
        "colab": {
          "base_uri": "https://localhost:8080/"
        },
        "outputId": "66cb64d5-e6c6-438b-80e4-fcd63120edaa"
      },
      "execution_count": 19,
      "outputs": [
        {
          "output_type": "execute_result",
          "data": {
            "text/plain": [
              "13526"
            ]
          },
          "metadata": {},
          "execution_count": 19
        }
      ]
    },
    {
      "cell_type": "code",
      "source": [
        "# Checagem da coleção\n",
        "for x in collection2.find():\n",
        "  print(x)"
      ],
      "metadata": {
        "id": "CZIlSJGmAEPY"
      },
      "execution_count": null,
      "outputs": []
    }
  ]
}